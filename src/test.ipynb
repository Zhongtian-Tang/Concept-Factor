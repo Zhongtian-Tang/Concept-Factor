{
 "cells": [
  {
   "cell_type": "code",
   "execution_count": 1,
   "metadata": {},
   "outputs": [],
   "source": [
    "import sys\n",
    "import pandas as pd\n",
    "import numpy as np\n",
    "import datetime\n",
    "import matplotlib.pyplot as plt"
   ]
  },
  {
   "cell_type": "code",
   "execution_count": 2,
   "metadata": {},
   "outputs": [
    {
     "name": "stdout",
     "output_type": "stream",
     "text": [
      "c:\\Users\\hazc\\anaconda3\\Lib\\site-packages\\iFinDPy.pth\n"
     ]
    }
   ],
   "source": [
    "sys.path.append(r'C:\\Users\\hazc\\Desktop\\Concept-Factor\\dependencies')\n",
    "import concept_helper as cp\n",
    "from ConceptEvent import ConceptEvent"
   ]
  },
  {
   "cell_type": "code",
   "execution_count": 3,
   "metadata": {},
   "outputs": [
    {
     "name": "stderr",
     "output_type": "stream",
     "text": [
      "2023-08-01 14:49:59,286 - root - INFO - 登录成功\n"
     ]
    },
    {
     "data": {
      "text/plain": [
       "True"
      ]
     },
     "execution_count": 3,
     "metadata": {},
     "output_type": "execute_result"
    }
   ],
   "source": [
    "cp.thslogin()"
   ]
  },
  {
   "cell_type": "code",
   "execution_count": 4,
   "metadata": {},
   "outputs": [
    {
     "name": "stderr",
     "output_type": "stream",
     "text": [
      "2023-08-01 14:50:10,114 - root - INFO - 日期: 2023-07-28 股票概念映射表生成成功\n",
      "2023-08-01 14:50:10,116 - root - INFO - 股票概念映射表更新成功\n",
      "2023-08-01 14:50:10,126 - root - ERROR - 概念股票映射表更新失败: 'thscode'\n"
     ]
    }
   ],
   "source": [
    "import logging\n",
    "def update_stock_concept_data(date):\n",
    "    \"\"\"\n",
    "    date: str 日期\n",
    "    stock_concept: DataFrame 股票概念映射表\n",
    "    \"\"\"\n",
    "    try:\n",
    "        new_stock_concept = cp.stock_concept_data(date)\n",
    "        new_stock_concept.rename(columns={'thscode': 'wind_code', 'ths_stock_short_name_stock':'sec_name', \n",
    "                                        'ths_the_concept_stock': 'concepts', 'concept_num': 'concept_num', 'date': 'tradedate'}, inplace=True)\n",
    "        new_stock_concept = new_stock_concept[['tradedate', 'wind_code', 'sec_name', 'concept_num', 'concepts']]\n",
    "        logging.info('股票概念映射表更新成功')\n",
    "    except Exception as e:\n",
    "        logging.error('股票概念映射表更新失败: {}'.format(str(e)))\n",
    "        new_stock_concept = None\n",
    "    try:\n",
    "        new_concept_stock = cp.concept_stock_data(new_stock_concept, date)\n",
    "        new_concept_stock.rename(columns={'date': 'tradedate', 'concept':'concepts', \n",
    "                                        'stock_num': 'stock_num', 'stock_code': 'stock_codes'}, inplace=True)\n",
    "        new_concept_stock = new_concept_stock[['tradedate', 'concepts', 'stock_num', 'stock_codes']]\n",
    "        logging.info('概念股票映射表更新成功')\n",
    "    except Exception as e:\n",
    "        logging.error('概念股票映射表更新失败: {}'.format(str(e)))\n",
    "        new_concept_stock = None\n",
    "    return new_stock_concept, new_concept_stock\n",
    "\n",
    "A, B = update_stock_concept_data('2023-07-28')"
   ]
  },
  {
   "cell_type": "code",
   "execution_count": 5,
   "metadata": {},
   "outputs": [
    {
     "data": {
      "text/html": [
       "<div>\n",
       "<style scoped>\n",
       "    .dataframe tbody tr th:only-of-type {\n",
       "        vertical-align: middle;\n",
       "    }\n",
       "\n",
       "    .dataframe tbody tr th {\n",
       "        vertical-align: top;\n",
       "    }\n",
       "\n",
       "    .dataframe thead th {\n",
       "        text-align: right;\n",
       "    }\n",
       "</style>\n",
       "<table border=\"1\" class=\"dataframe\">\n",
       "  <thead>\n",
       "    <tr style=\"text-align: right;\">\n",
       "      <th></th>\n",
       "      <th>tradedate</th>\n",
       "      <th>wind_code</th>\n",
       "      <th>sec_name</th>\n",
       "      <th>concept_num</th>\n",
       "      <th>concepts</th>\n",
       "    </tr>\n",
       "  </thead>\n",
       "  <tbody>\n",
       "    <tr>\n",
       "      <th>0</th>\n",
       "      <td>2023-07-28</td>\n",
       "      <td>000001.SZ</td>\n",
       "      <td>平安银行</td>\n",
       "      <td>10</td>\n",
       "      <td>标普道琼斯A股,证金持股,MSCI概念,跨境支付（CIPS）,富时罗素概念股,深股通,优先股...</td>\n",
       "    </tr>\n",
       "    <tr>\n",
       "      <th>1</th>\n",
       "      <td>2023-07-28</td>\n",
       "      <td>000002.SZ</td>\n",
       "      <td>万科A</td>\n",
       "      <td>17</td>\n",
       "      <td>物业管理,REITs概念,装配式建筑,证金持股,超级品牌,标普道琼斯A股,冰雪产业,同花顺漂...</td>\n",
       "    </tr>\n",
       "    <tr>\n",
       "      <th>2</th>\n",
       "      <td>2023-07-28</td>\n",
       "      <td>000004.SZ</td>\n",
       "      <td>国华网安</td>\n",
       "      <td>11</td>\n",
       "      <td>数据安全,电力物联网,5G,网络安全,鸿蒙概念,物联网,壳资源,华为概念,车联网,中科系,摘帽</td>\n",
       "    </tr>\n",
       "    <tr>\n",
       "      <th>3</th>\n",
       "      <td>2023-07-28</td>\n",
       "      <td>000005.SZ</td>\n",
       "      <td>ST星源</td>\n",
       "      <td>7</td>\n",
       "      <td>ST板块,广东自贸区,土壤修复,固废处理,国际板,废气处理,一元股</td>\n",
       "    </tr>\n",
       "    <tr>\n",
       "      <th>4</th>\n",
       "      <td>2023-07-28</td>\n",
       "      <td>000006.SZ</td>\n",
       "      <td>深振业A</td>\n",
       "      <td>11</td>\n",
       "      <td>物业管理,深圳国企改革,标普道琼斯A股,粤港澳大湾区,国企改革,证金持股,深股通,融资融券,...</td>\n",
       "    </tr>\n",
       "    <tr>\n",
       "      <th>...</th>\n",
       "      <td>...</td>\n",
       "      <td>...</td>\n",
       "      <td>...</td>\n",
       "      <td>...</td>\n",
       "      <td>...</td>\n",
       "    </tr>\n",
       "    <tr>\n",
       "      <th>5236</th>\n",
       "      <td>2023-07-28</td>\n",
       "      <td>873305.BJ</td>\n",
       "      <td>九菱科技</td>\n",
       "      <td>2</td>\n",
       "      <td>新股与次新股,高送转预期</td>\n",
       "    </tr>\n",
       "    <tr>\n",
       "      <th>5237</th>\n",
       "      <td>2023-07-28</td>\n",
       "      <td>873339.BJ</td>\n",
       "      <td>恒太照明</td>\n",
       "      <td>1</td>\n",
       "      <td>新股与次新股</td>\n",
       "    </tr>\n",
       "    <tr>\n",
       "      <th>5238</th>\n",
       "      <td>2023-07-28</td>\n",
       "      <td>873527.BJ</td>\n",
       "      <td>夜光明</td>\n",
       "      <td>1</td>\n",
       "      <td>新股与次新股</td>\n",
       "    </tr>\n",
       "    <tr>\n",
       "      <th>5239</th>\n",
       "      <td>2023-07-28</td>\n",
       "      <td>873576.BJ</td>\n",
       "      <td>天力复合</td>\n",
       "      <td>4</td>\n",
       "      <td>卫星导航,地方国企改革,核电,新股与次新股</td>\n",
       "    </tr>\n",
       "    <tr>\n",
       "      <th>5240</th>\n",
       "      <td>2023-07-28</td>\n",
       "      <td>873593.BJ</td>\n",
       "      <td>鼎智科技</td>\n",
       "      <td>3</td>\n",
       "      <td>新股与次新股,专精特新,高送转预期</td>\n",
       "    </tr>\n",
       "  </tbody>\n",
       "</table>\n",
       "<p>5241 rows × 5 columns</p>\n",
       "</div>"
      ],
      "text/plain": [
       "      tradedate  wind_code sec_name  concept_num  \\\n",
       "0    2023-07-28  000001.SZ     平安银行           10   \n",
       "1    2023-07-28  000002.SZ      万科A           17   \n",
       "2    2023-07-28  000004.SZ     国华网安           11   \n",
       "3    2023-07-28  000005.SZ     ST星源            7   \n",
       "4    2023-07-28  000006.SZ     深振业A           11   \n",
       "...         ...        ...      ...          ...   \n",
       "5236 2023-07-28  873305.BJ     九菱科技            2   \n",
       "5237 2023-07-28  873339.BJ     恒太照明            1   \n",
       "5238 2023-07-28  873527.BJ      夜光明            1   \n",
       "5239 2023-07-28  873576.BJ     天力复合            4   \n",
       "5240 2023-07-28  873593.BJ     鼎智科技            3   \n",
       "\n",
       "                                               concepts  \n",
       "0     标普道琼斯A股,证金持股,MSCI概念,跨境支付（CIPS）,富时罗素概念股,深股通,优先股...  \n",
       "1     物业管理,REITs概念,装配式建筑,证金持股,超级品牌,标普道琼斯A股,冰雪产业,同花顺漂...  \n",
       "2       数据安全,电力物联网,5G,网络安全,鸿蒙概念,物联网,壳资源,华为概念,车联网,中科系,摘帽  \n",
       "3                     ST板块,广东自贸区,土壤修复,固废处理,国际板,废气处理,一元股  \n",
       "4     物业管理,深圳国企改革,标普道琼斯A股,粤港澳大湾区,国企改革,证金持股,深股通,融资融券,...  \n",
       "...                                                 ...  \n",
       "5236                                       新股与次新股,高送转预期  \n",
       "5237                                             新股与次新股  \n",
       "5238                                             新股与次新股  \n",
       "5239                              卫星导航,地方国企改革,核电,新股与次新股  \n",
       "5240                                  新股与次新股,专精特新,高送转预期  \n",
       "\n",
       "[5241 rows x 5 columns]"
      ]
     },
     "execution_count": 5,
     "metadata": {},
     "output_type": "execute_result"
    }
   ],
   "source": [
    "A"
   ]
  },
  {
   "cell_type": "code",
   "execution_count": null,
   "metadata": {},
   "outputs": [],
   "source": []
  }
 ],
 "metadata": {
  "kernelspec": {
   "display_name": "base",
   "language": "python",
   "name": "python3"
  },
  "language_info": {
   "codemirror_mode": {
    "name": "ipython",
    "version": 3
   },
   "file_extension": ".py",
   "mimetype": "text/x-python",
   "name": "python",
   "nbconvert_exporter": "python",
   "pygments_lexer": "ipython3",
   "version": "3.10.9"
  },
  "orig_nbformat": 4
 },
 "nbformat": 4,
 "nbformat_minor": 2
}
