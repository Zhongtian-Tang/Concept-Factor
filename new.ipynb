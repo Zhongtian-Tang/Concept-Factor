{
 "cells": [
  {
   "cell_type": "code",
   "execution_count": 2,
   "metadata": {},
   "outputs": [
    {
     "ename": "ImportError",
     "evalue": "cannot import name 'setup_logger' from 'concept_factor.src.logger_config' (c:\\Users\\hazc\\Desktop\\Concept-Factor\\concept_factor\\src\\logger_config.py)",
     "output_type": "error",
     "traceback": [
      "\u001b[1;31m---------------------------------------------------------------------------\u001b[0m",
      "\u001b[1;31mImportError\u001b[0m                               Traceback (most recent call last)",
      "Cell \u001b[1;32mIn[2], line 1\u001b[0m\n\u001b[1;32m----> 1\u001b[0m \u001b[39mimport\u001b[39;00m \u001b[39mconcept_factor\u001b[39;00m\u001b[39m.\u001b[39;00m\u001b[39mdependencies\u001b[39;00m\u001b[39m.\u001b[39;00m\u001b[39mconcept_helper\u001b[39;00m \u001b[39mas\u001b[39;00m \u001b[39mcp\u001b[39;00m\n",
      "File \u001b[1;32mc:\\Users\\hazc\\Desktop\\Concept-Factor\\concept_factor\\dependencies\\concept_helper.py:8\u001b[0m\n\u001b[0;32m      6\u001b[0m \u001b[39mimport\u001b[39;00m \u001b[39mcalendar\u001b[39;00m\n\u001b[0;32m      7\u001b[0m \u001b[39mfrom\u001b[39;00m \u001b[39mconcept_factor\u001b[39;00m\u001b[39m.\u001b[39;00m\u001b[39mdependencies\u001b[39;00m\u001b[39m.\u001b[39;00m\u001b[39mConceptEvent\u001b[39;00m \u001b[39mimport\u001b[39;00m ConceptEvent\n\u001b[1;32m----> 8\u001b[0m \u001b[39mfrom\u001b[39;00m \u001b[39mconcept_factor\u001b[39;00m\u001b[39m.\u001b[39;00m\u001b[39msrc\u001b[39;00m\u001b[39m.\u001b[39;00m\u001b[39mlogger_config\u001b[39;00m \u001b[39mimport\u001b[39;00m setup_logger\n\u001b[0;32m      9\u001b[0m \u001b[39mfrom\u001b[39;00m \u001b[39msqlalchemy\u001b[39;00m \u001b[39mimport\u001b[39;00m create_engine, VARCHAR\n\u001b[0;32m     10\u001b[0m \u001b[39mimport\u001b[39;00m \u001b[39mmatplotlib\u001b[39;00m\u001b[39m.\u001b[39;00m\u001b[39mpyplot\u001b[39;00m \u001b[39mas\u001b[39;00m \u001b[39mplt\u001b[39;00m\n",
      "\u001b[1;31mImportError\u001b[0m: cannot import name 'setup_logger' from 'concept_factor.src.logger_config' (c:\\Users\\hazc\\Desktop\\Concept-Factor\\concept_factor\\src\\logger_config.py)"
     ]
    }
   ],
   "source": [
    "import concept_factor.dependencies.concept_helper as cp"
   ]
  },
  {
   "cell_type": "code",
   "execution_count": null,
   "metadata": {},
   "outputs": [],
   "source": []
  }
 ],
 "metadata": {
  "kernelspec": {
   "display_name": "base",
   "language": "python",
   "name": "python3"
  },
  "language_info": {
   "codemirror_mode": {
    "name": "ipython",
    "version": 3
   },
   "file_extension": ".py",
   "mimetype": "text/x-python",
   "name": "python",
   "nbconvert_exporter": "python",
   "pygments_lexer": "ipython3",
   "version": "3.10.9"
  },
  "orig_nbformat": 4
 },
 "nbformat": 4,
 "nbformat_minor": 2
}
